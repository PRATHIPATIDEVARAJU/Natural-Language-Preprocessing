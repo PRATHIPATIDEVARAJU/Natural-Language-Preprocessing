{
 "cells": [
  {
   "cell_type": "markdown",
   "id": "d58d354d-c2c3-4fca-a2d9-1a4debc95e25",
   "metadata": {},
   "source": [
    "## Stemming and lemmatization"
   ]
  },
  {
   "cell_type": "markdown",
   "id": "2b2c400b-1136-4eb3-8dfa-d5a313bf979c",
   "metadata": {},
   "source": [
    "- **Stemming and Lemmatization** are essential text normalization techniques in **Natural Language Processing (NLP)** that help reduce words to their base or root form. This process aids in improving text processing tasks like search, text mining, and machine learning models.\n",
    "- Stemming and lemmatization are text normalization techniques used in natural language processing (NLP) to reduce words to their base or root form.\n",
    "- Here’s a brief overview of both, along with example implementations using popular NLP libraries."
   ]
  },
  {
   "cell_type": "markdown",
   "id": "1907df9d-3c5d-445d-a6f0-99795f302958",
   "metadata": {},
   "source": [
    "## Stemming"
   ]
  },
  {
   "cell_type": "markdown",
   "id": "7f92eb6c-8104-41ba-ac81-c0b7c38996ce",
   "metadata": {},
   "source": [
    "- Stemming removes suffixes to get the root form of a word. However, the resulting root word may not always be a valid word in the language.\n",
    "- Stemming is the process of reducing a word to its base or root form by removing suffixes. The result may not be an actual word but a truncated version of the original."
   ]
  },
  {
   "cell_type": "code",
   "execution_count": 3,
   "id": "354eb426-0eb9-494b-807e-5e6f5031cb02",
   "metadata": {},
   "outputs": [
    {
     "name": "stdout",
     "output_type": "stream",
     "text": [
      "['run', 'ran', 'run', 'fli', 'easili', 'fairli', 'fair', 'studi']\n"
     ]
    }
   ],
   "source": [
    "from nltk.stem import PorterStemmer\n",
    "\n",
    "# Create a PorterStemmer object\n",
    "stemmer = PorterStemmer()\n",
    "\n",
    "# Example words\n",
    "words = [\"running\", \"ran\", \"runs\",\"flies\", \"easily\", \"fairly\", \"fairness\", \"studies\"]\n",
    "\n",
    "# Stem each word\n",
    "stems = [stemmer.stem(word) for word in words]\n",
    "\n",
    "print(stems)  # Output: ['run', 'ran', 'run', 'easili', 'fairli']"
   ]
  },
  {
   "cell_type": "markdown",
   "id": "27aab3a0-79f4-4d44-b90d-819c81cf7e98",
   "metadata": {},
   "source": [
    "Here, you can see that some words, like **\"flies\" → \"fli\"**, are not actual words."
   ]
  },
  {
   "cell_type": "markdown",
   "id": "79bda016-1634-4f8c-b617-0a2cab13954c",
   "metadata": {},
   "source": [
    "## Lemmatization"
   ]
  },
  {
   "cell_type": "markdown",
   "id": "d60d3ed1-e4b2-4041-9664-719849e6e964",
   "metadata": {},
   "source": [
    "- Lemmatization reduces a word to its base or dictionary form, known as the lemma.\n",
    "- This process considers the context and the morphological analysis of the words, resulting in valid words."
   ]
  },
  {
   "cell_type": "code",
   "execution_count": 4,
   "id": "3e3727d8-fafe-4975-b136-d7e08c868098",
   "metadata": {},
   "outputs": [
    {
     "name": "stderr",
     "output_type": "stream",
     "text": [
      "[nltk_data] Downloading package wordnet to\n",
      "[nltk_data]     C:\\Users\\devad\\AppData\\Roaming\\nltk_data...\n",
      "[nltk_data]   Package wordnet is already up-to-date!\n",
      "[nltk_data] Downloading package omw-1.4 to\n",
      "[nltk_data]     C:\\Users\\devad\\AppData\\Roaming\\nltk_data...\n",
      "[nltk_data]   Package omw-1.4 is already up-to-date!\n",
      "[nltk_data] Downloading package averaged_perceptron_tagger to\n",
      "[nltk_data]     C:\\Users\\devad\\AppData\\Roaming\\nltk_data...\n",
      "[nltk_data]   Unzipping taggers\\averaged_perceptron_tagger.zip.\n"
     ]
    },
    {
     "data": {
      "text/plain": [
       "True"
      ]
     },
     "execution_count": 4,
     "metadata": {},
     "output_type": "execute_result"
    }
   ],
   "source": [
    "import nltk\n",
    "nltk.download('wordnet')\n",
    "nltk.download('omw-1.4')\n",
    "nltk.download('averaged_perceptron_tagger')  # For POS tagging if needed"
   ]
  },
  {
   "cell_type": "code",
   "execution_count": 5,
   "id": "fc1ddf51-5294-4dea-80bb-b09be2d4575f",
   "metadata": {},
   "outputs": [
    {
     "name": "stdout",
     "output_type": "stream",
     "text": [
      "Lemmatized as Verbs: ['run', 'run', 'run', 'better', 'fairly']\n",
      "Lemmatized as Adjectives: ['running', 'ran', 'runs', 'good', 'fairly']\n"
     ]
    },
    {
     "name": "stderr",
     "output_type": "stream",
     "text": [
      "[nltk_data] Downloading package wordnet to\n",
      "[nltk_data]     C:\\Users\\devad\\AppData\\Roaming\\nltk_data...\n",
      "[nltk_data]   Package wordnet is already up-to-date!\n",
      "[nltk_data] Downloading package omw-1.4 to\n",
      "[nltk_data]     C:\\Users\\devad\\AppData\\Roaming\\nltk_data...\n",
      "[nltk_data]   Package omw-1.4 is already up-to-date!\n"
     ]
    }
   ],
   "source": [
    "from nltk.stem import WordNetLemmatizer\n",
    "import nltk\n",
    "\n",
    "# Download necessary data\n",
    "nltk.download('wordnet')\n",
    "nltk.download('omw-1.4')\n",
    "\n",
    "# Initialize lemmatizer\n",
    "lemmatizer = WordNetLemmatizer()\n",
    "\n",
    "# Example words\n",
    "words = [\"running\", \"ran\", \"runs\", \"better\", \"fairly\"]\n",
    "\n",
    "# Lemmatize words as verbs ('v')\n",
    "lemmas_verbs = [lemmatizer.lemmatize(word, pos='v') for word in words]\n",
    "\n",
    "# Lemmatize words as adjectives ('a')\n",
    "lemmas_adjectives = [lemmatizer.lemmatize(word, pos='a') for word in words]\n",
    "\n",
    "print(\"Lemmatized as Verbs:\", lemmas_verbs)\n",
    "print(\"Lemmatized as Adjectives:\", lemmas_adjectives)\n"
   ]
  },
  {
   "cell_type": "code",
   "execution_count": null,
   "id": "880fb104-f385-42d3-bb08-9a5e8c69da5f",
   "metadata": {},
   "outputs": [],
   "source": []
  },
  {
   "cell_type": "markdown",
   "id": "b2f5e883-3c29-432d-825f-23289e5c2370",
   "metadata": {},
   "source": [
    "# **Differences Between Stemming and Lemmatization**\n",
    "\n",
    "## **1. Accuracy**\n",
    "- **Stemming:** Can produce non-existent words by chopping off parts of the word.  \n",
    "  - Example: *\"better\"* might be stemmed to *\"bett\"*.\n",
    "- **Lemmatization:** Results in actual words by considering the morphological analysis of the word.\n",
    "\n",
    "## **2. Context**\n",
    "- **Stemming:** Does not consider the context and simply removes common prefixes and suffixes.\n",
    "- **Lemmatization:** Takes into account the **context** and **part of speech**, providing more accurate results.\n",
    "\n",
    "## **3. Complexity**\n",
    "- **Stemming:** A simpler and faster process.\n",
    "- **Lemmatization:** More complex, as it requires a dictionary and understanding of the word's context.\n",
    "\n",
    "---\n",
    "\n",
    "### **Example in Python**\n",
    "\n",
    "```python\n",
    "from nltk.stem import PorterStemmer, WordNetLemmatizer\n",
    "import nltk\n",
    "\n",
    "# Download necessary data for lemmatization\n",
    "nltk.download('wordnet')\n",
    "nltk.download('omw-1.4')\n",
    "\n",
    "# Initialize stemmer and lemmatizer\n",
    "stemmer = PorterStemmer()\n",
    "lemmatizer = WordNetLemmatizer()\n",
    "\n",
    "# Example words\n",
    "word = \"better\"\n",
    "\n",
    "# Apply stemming\n",
    "stemmed_word = stemmer.stem(word)\n",
    "\n",
    "# Apply lemmatization (as adjective 'a')\n",
    "lemmatized_word = lemmatizer.lemmatize(word, pos='a')\n",
    "\n",
    "print(f\"Stemmed: {stemmed_word}\")        # Output: bett\n",
    "print(f\"Lemmatized: {lemmatized_word}\")  # Output: good\n"
   ]
  },
  {
   "cell_type": "markdown",
   "id": "b52e1257-357a-4de4-8827-c5cab543e9f4",
   "metadata": {},
   "source": [
    "# **Differences Between Stemming and Lemmatization**\n",
    "\n",
    "Both **Stemming** and **Lemmatization** are text preprocessing techniques used in **Natural Language Processing (NLP)** to reduce words to their root form. However, they differ in accuracy, context handling, and complexity.\n",
    "\n",
    "---\n",
    "\n",
    "## **Key Differences**\n",
    "\n",
    "| Feature         | Stemming       | Lemmatization  |\n",
    "|---------------|---------------|---------------|\n",
    "| **Accuracy** | Produces non-existent words by chopping off prefixes/suffixes (e.g., *\"better\"* → *\"bett\"*) | Produces actual words by considering word structure (e.g., *\"better\"* → *\"good\"*) |\n",
    "| **Context** | Does not consider context, applies simple rules to remove affixes | Considers context and part of speech for accurate results |\n",
    "| **Complexity** | Faster and simpler | Requires a dictionary and morphological analysis, making it slower but more precise |\n",
    "| **Use Case** | Suitable for quick and large-scale text processing where perfect accuracy is not required | Preferred for NLP tasks requiring grammatically correct words |\n"
   ]
  },
  {
   "cell_type": "markdown",
   "id": "6e986fc9-c22b-4e4a-b891-6642241488d8",
   "metadata": {},
   "source": [
    "## 🎯 Key Differences: Stemming vs Lemmatization\n",
    "\n",
    "| **Feature**   | **Stemming**                        | **Lemmatization**                   |\n",
    "|--------------|-----------------------------------|-----------------------------------|\n",
    "| **Approach**  | Rule-based (suffix stripping)   | Dictionary-based (linguistic)    |\n",
    "| **Speed**     | Faster                          | Slower (needs word database)     |\n",
    "| **Accuracy**  | Less accurate (truncated words) | More accurate (real words)       |\n",
    "| **Example**   | \"flies\" → \"fli\"                 | \"flies\" → \"fly\"                  |\n",
    "\n"
   ]
  },
  {
   "cell_type": "code",
   "execution_count": null,
   "id": "dfcc494b-162e-4d52-947e-8fd44307ca05",
   "metadata": {},
   "outputs": [],
   "source": []
  }
 ],
 "metadata": {
  "kernelspec": {
   "display_name": "Python 3 (ipykernel)",
   "language": "python",
   "name": "python3"
  },
  "language_info": {
   "codemirror_mode": {
    "name": "ipython",
    "version": 3
   },
   "file_extension": ".py",
   "mimetype": "text/x-python",
   "name": "python",
   "nbconvert_exporter": "python",
   "pygments_lexer": "ipython3",
   "version": "3.12.4"
  }
 },
 "nbformat": 4,
 "nbformat_minor": 5
}
